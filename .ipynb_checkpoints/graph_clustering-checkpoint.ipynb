{
 "cells": [
  {
   "cell_type": "markdown",
   "metadata": {},
   "source": [
    "## Local Graph Clustering "
   ]
  },
  {
   "cell_type": "code",
   "execution_count": 451,
   "metadata": {},
   "outputs": [
    {
     "name": "stdout",
     "output_type": "stream",
     "text": [
      "910\n"
     ]
    }
   ],
   "source": [
    "import numpy as np\n",
    "\n",
    "# Import networkx to load the data\n",
    "import networkx as nx\n",
    "\n",
    "# Provide the path of the dataset JohnsHopkins55\n",
    "path = 'JohnsHopkins55.graphml'\n",
    "\n",
    "# This dataset is a Facebook anonymized dataset on a particular day in September 2005 \n",
    "# for a student social network at John Hopkins university. The graph is unweighted \n",
    "# and it represents ``friendship'' ties. This graph has 5157 nodes and 186572 edges. \n",
    "# This dataset comes along with 6 features, i.e., second major, high school, gender, dorm, major index and year. \n",
    "# We construct ``ground truth'' clusters by using the features for each node.\n",
    "# In particular, we consider nodes with the same value of a feature to be a cluster, e.g., students of year 2009. \n",
    "\n",
    "# Load the data as a graph\n",
    "G = nx.read_graphml(path).to_undirected()\n",
    "\n",
    "# Construct the adjacency matrix\n",
    "A = nx.adjacency_matrix(G).astype(np.float64)\n",
    "\n",
    "# Indices of nodes (students) of class year 2009\n",
    "# There should be 910 students of class year 2009.\n",
    "# We will use these students to measure performance of the model\n",
    "students_of_year_2009 = []\n",
    "ct = 0\n",
    "for node in G.nodes(data=True):\n",
    "    if node[1]['year'] == 2009:\n",
    "        students_of_year_2009.append(ct)\n",
    "    ct += 1\n",
    "print(len(students_of_year_2009))"
   ]
  },
  {
   "cell_type": "markdown",
   "metadata": {},
   "source": [
    "The target cluster is the students of year 2009 in the list: students_of_year_2009.\n",
    "\n",
    "For this problem we will have to use the coordinate algorithm\n",
    "\n",
    "The coordinate algorithm returns a vector $p$. To get an actual cluster from vector $p$ we will have to round the output of the coordinate algorithm using \"some\" rounding technique. \n",
    "\n",
    "To measure accuracy of the rounded output we can use number of true positives and the number of false positives of the predicted cluster. True positives are the predicted nodes that are also part of class year 2009. False positive are the number of predicted nodes that are not part of the class year 2009."
   ]
  },
  {
   "cell_type": "code",
   "execution_count": 452,
   "metadata": {},
   "outputs": [],
   "source": [
    "def page_rank(A, n, alpha, epsilon):\n",
    "    di = np.diff(A.tocsr().indptr).astype(\"float64\")\n",
    "    res = np.zeros(A.shape[0])\n",
    "    res[n] = 1\n",
    "    p_soln = np.zeros(A.shape[0])\n",
    "    while(1):\n",
    "        test = np.where(res >= epsilon*di)[0]\n",
    "        if len(test) == 0:\n",
    "            break\n",
    "        ind = test[0]\n",
    "        p_soln[ind] = p_soln[ind] + alpha*res[ind]\n",
    "        res = res + ((0.5*(1-alpha)*res[ind]*A[ind])/di[ind]).toarray()[0]\n",
    "        res[ind] = ((1-alpha)*res[ind])/2\n",
    "    return p_soln, di"
   ]
  },
  {
   "cell_type": "code",
   "execution_count": 404,
   "metadata": {},
   "outputs": [
    {
     "name": "stdout",
     "output_type": "stream",
     "text": [
      "1376\n",
      "6.236837148666382\n"
     ]
    }
   ],
   "source": [
    "alpha = 0.1\n",
    "epsilon = 0.25e-05\n",
    "st = time.time()\n",
    "\n",
    "p, di = page_rank(A, n, alpha, epsilon)\n",
    "\n",
    "print(len(np.where(p > 0)[0]))\n",
    "\n",
    "time_taken = time.time() - st\n",
    "print(time_taken)"
   ]
  },
  {
   "cell_type": "code",
   "execution_count": 405,
   "metadata": {},
   "outputs": [],
   "source": [
    "def find_conductance(A, p, d):\n",
    "    check = p/d\n",
    "    zeros = np.where(check == 0)[0]\n",
    "    sort_list = np.argsort(check, axis = 0)[::-1]\n",
    "    sort_list = [x for x in sort_list if x not in zeros]\n",
    "    cluster_set = set({})\n",
    "    l = np.array([])\n",
    "    min_c = 1\n",
    "    min_ind = 0\n",
    "    i = 0\n",
    "    sum_degree = 0\n",
    "    for x in sort_list:\n",
    "        i = i + 1\n",
    "        if(p[x]==0):\n",
    "            break\n",
    "        cluster_set.add(x)\n",
    "        l = l[l != x]\n",
    "        ind_check = A[x].indices\n",
    "        for j in ind_check:\n",
    "            if j not in cluster_set:\n",
    "                l = np.append(l, j)\n",
    "        leave_edges = len(l)\n",
    "        sum_degree = sum_degree + d[x]\n",
    "        conductance = leave_edges / sum_degree\n",
    "        \n",
    "        if(conductance < min_c):\n",
    "            min_c = conductance\n",
    "            min_ind = i\n",
    "    \n",
    "    final = set(sort_list[:min_ind])\n",
    "    return final"
   ]
  },
  {
   "cell_type": "markdown",
   "metadata": {},
   "source": [
    "Step 1\n",
    "-------------\n",
    "\n",
    "Report the number of nonzero nodes in the output of the coordinate algorithm (vector $p$) as the tolerance parameter $\\epsilon$ goes to zero. In particular, plot the number of nonzeros in the output $p$ against $\\epsilon$.\n",
    "The number of nonzeros should increase as $\\epsilon$ goes to zero."
   ]
  },
  {
   "cell_type": "code",
   "execution_count": 453,
   "metadata": {},
   "outputs": [
    {
     "name": "stdout",
     "output_type": "stream",
     "text": [
      "When epsilon =  0.001 number of non-zero nodes are 8\n",
      "When epsilon =  0.0001 number of non-zero nodes are 39\n",
      "When epsilon =  1e-05 number of non-zero nodes are 881\n",
      "When epsilon =  1e-06 number of non-zero nodes are 2833\n",
      "When epsilon =  1e-07 number of non-zero nodes are 5157\n"
     ]
    }
   ],
   "source": [
    "list_eps = [1e-3, 1e-4, 1e-5, 1e-6, 1e-7]\n",
    "alpha = 0.1\n",
    "p_list = []\n",
    "\n",
    "for i in list_eps:\n",
    "    n = 5000\n",
    "    #st = time.time()\n",
    "    p, di = page_rank(A, n, alpha, i)\n",
    "    #time_taken = time.time() - st\n",
    "    print(\"When epsilon = \", i, \"number of non-zero nodes are\", len(np.where(p != 0)[0]))\n",
    "    p_list.append(len(np.where(p != 0)[0]))"
   ]
  },
  {
   "cell_type": "code",
   "execution_count": 454,
   "metadata": {},
   "outputs": [
    {
     "data": {
      "image/png": "[encoded data removed]",
      "text/plain": [
       "<Figure size 1440x576 with 1 Axes>"
      ]
     },
     "metadata": {
      "needs_background": "light"
     },
     "output_type": "display_data"
    }
   ],
   "source": [
    "fig = plt.figure(figsize=(20, 8))\n",
    "plt.plot(list_eps,p_list, label=(\"Number of non-zero in the output of p\"), linewidth=2.0, color =\"green\")\n",
    "plt.legend(prop={'size': 20},loc=\"right\")\n",
    "plt.xlabel(\"Epsilon\", fontsize=25)\n",
    "plt.ylabel(\"number of non zero values\", fontsize=25)\n",
    "plt.grid(linestyle='dashed')\n",
    "plt.show()   "
   ]
  },
  {
   "cell_type": "markdown",
   "metadata": {},
   "source": [
    "Step 2\n",
    "-------------\n",
    "\n",
    "Run the coordinate algorithm using as seed node the node with index 5000. Round the output to get an actual cluster back. Measure true positives and false positives of the predicted cluster. Report these two numbers."
   ]
  },
  {
   "cell_type": "code",
   "execution_count": 455,
   "metadata": {},
   "outputs": [
    {
     "name": "stdout",
     "output_type": "stream",
     "text": [
      "Epsilon = 0.25*1e-05\n",
      "Number of True Positives:  851\n",
      "Number of False Positives:  88\n",
      "Epsilon = 1e-06\n",
      "Number of True Positives:  852\n",
      "Number of False Positives:  84\n"
     ]
    }
   ],
   "source": [
    "n = 5000\n",
    "epsilon = [0.25*1e-05, 1e-06]\n",
    "alpha =0.1\n",
    "\n",
    "p, di = page_rank(A, n, alpha, epsilon[0])\n",
    "cond_set = find_conductance(A, p, di)\n",
    "all_student = set(students_of_year_2009)\n",
    "common = cond_set.intersection(all_student)\n",
    "print(\"Epsilon = 0.25*1e-05\")\n",
    "print(\"Number of True Positives: \", len(common))\n",
    "print(\"Number of False Positives: \", len(cond_set) - len(common))\n",
    "\n",
    "p, di = page_rank(A, n, alpha, epsilon[1])\n",
    "cond_set = find_conductance(A, p, di)\n",
    "all_student = set(students_of_year_2009)\n",
    "common = cond_set.intersection(all_student)\n",
    "print(\"Epsilon = 1e-06\")\n",
    "print(\"Number of True Positives: \", len(common))\n",
    "print(\"Number of False Positives: \", len(cond_set) - len(common))"
   ]
  },
  {
   "cell_type": "markdown",
   "metadata": {},
   "source": [
    "Step 3\n",
    "-------------\n",
    "\n",
    "Run the coordinate algorithm using as seed node the node with index 146. Round the output to get an actual cluster back. Measure true positives and false positive of the predicted cluster. Report these two numbers. How do they compare to the results in step 2)? Are they different?"
   ]
  },
  {
   "cell_type": "code",
   "execution_count": 456,
   "metadata": {},
   "outputs": [
    {
     "name": "stdout",
     "output_type": "stream",
     "text": [
      "Epsilon = 0.25*1e-05\n",
      "Number of True Positives:  784\n",
      "Number of False Positives:  126\n",
      "Epsilon = 1e-06\n",
      "Number of True Positives:  900\n",
      "Number of False Positives:  2720\n"
     ]
    }
   ],
   "source": [
    "n = 146\n",
    "epsilon = [0.25*1e-05, 1e-06] \n",
    "alpha =0.1\n",
    "\n",
    "p, di = page_rank(A, n, alpha, epsilon[0])\n",
    "cond_set = find_conductance(A, p, di)\n",
    "all_student = set(students_of_year_2009)\n",
    "common = cond_set.intersection(all_student)\n",
    "print(\"Epsilon = 0.25*1e-05\")\n",
    "print(\"Number of True Positives: \", len(common))\n",
    "print(\"Number of False Positives: \", len(cond_set) - len(common))\n",
    "\n",
    "\n",
    "p, di = page_rank(A, n, alpha, epsilon[1])\n",
    "cond_set = find_conductance(A, p, di)\n",
    "all_student = set(students_of_year_2009)\n",
    "common = cond_set.intersection(all_student)\n",
    "print(\"Epsilon = 1e-06\")\n",
    "print(\"Number of True Positives: \", len(common))\n",
    "print(\"Number of False Positives: \", len(cond_set) - len(common))"
   ]
  },
  {
   "cell_type": "markdown",
   "metadata": {},
   "source": [
    "Note\n",
    "------\n",
    "Comparison when epsilon is 1e-06: There is not much of difference in True positives (852 and 900) but there is significant difference in False positives (84 and 2720). This would have happend because this particular student has good networking with students that are not in the year 2009. "
   ]
  },
  {
   "cell_type": "code",
   "execution_count": null,
   "metadata": {},
   "outputs": [],
   "source": []
  }
 ],
 "metadata": {
  "kernelspec": {
   "display_name": "Python 3",
   "language": "python",
   "name": "python3"
  },
  "language_info": {
   "codemirror_mode": {
    "name": "ipython",
    "version": 3
   },
   "file_extension": ".py",
   "mimetype": "text/x-python",
   "name": "python",
   "nbconvert_exporter": "python",
   "pygments_lexer": "ipython3",
   "version": "3.8.8"
  }
 },
 "nbformat": 4,
 "nbformat_minor": 2
}
